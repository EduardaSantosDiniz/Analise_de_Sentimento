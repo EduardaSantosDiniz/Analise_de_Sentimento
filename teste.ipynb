{
  "cells": [
    {
      "cell_type": "markdown",
      "metadata": {
        "id": "view-in-github",
        "colab_type": "text"
      },
      "source": [
        "<a href=\"https://colab.research.google.com/github/EduardaSantosDiniz/Analise_de_Sentimento/blob/main/teste.ipynb\" target=\"_parent\"><img src=\"https://colab.research.google.com/assets/colab-badge.svg\" alt=\"Open In Colab\"/></a>"
      ]
    },
    {
      "cell_type": "markdown",
      "source": [
        "# **Análise de Sentimento**\n",
        "\n",
        "Nesse projeto irei usar Machine Learning e ele irá entender e analisar o sentimento que uma frase expressa\n",
        "\n",
        "# Como vamos fazer isso?\n",
        "\n",
        "Primeiro iremos ensinar a máquina conceitos básicos como identificar algo que é ou não é (no caso, só tendo duas opções)"
      ],
      "metadata": {
        "id": "BsI7Fsmr2aLH"
      }
    }
  ],
  "metadata": {
    "colab": {
      "name": "Overview of Colaboratory Features",
      "provenance": [],
      "include_colab_link": true
    },
    "kernelspec": {
      "display_name": "Python 3",
      "name": "python3"
    }
  },
  "nbformat": 4,
  "nbformat_minor": 0
}